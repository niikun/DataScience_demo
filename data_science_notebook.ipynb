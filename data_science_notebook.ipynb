{
  "nbformat": 4,
  "nbformat_minor": 0,
  "metadata": {
    "colab": {
      "provenance": [],
      "toc_visible": true,
      "authorship_tag": "ABX9TyMPwsmPb6ZQz80aykL1Vk5q",
      "include_colab_link": true
    },
    "kernelspec": {
      "name": "python3",
      "display_name": "Python 3"
    },
    "language_info": {
      "name": "python"
    }
  },
  "cells": [
    {
      "cell_type": "markdown",
      "metadata": {
        "id": "view-in-github",
        "colab_type": "text"
      },
      "source": [
        "<a href=\"https://colab.research.google.com/github/niikun/DataScience_demo/blob/main/data_science_notebook.ipynb\" target=\"_parent\"><img src=\"https://colab.research.google.com/assets/colab-badge.svg\" alt=\"Open In Colab\"/></a>"
      ]
    },
    {
      "cell_type": "code",
      "execution_count": null,
      "metadata": {
        "id": "-AV1LIeNhRb4"
      },
      "outputs": [],
      "source": []
    },
    {
      "cell_type": "markdown",
      "source": [
        "# Ingest"
      ],
      "metadata": {
        "id": "RBYBOhH0hrWs"
      }
    },
    {
      "cell_type": "code",
      "source": [],
      "metadata": {
        "id": "RSmXr3o5hqxP"
      },
      "execution_count": null,
      "outputs": []
    },
    {
      "cell_type": "markdown",
      "source": [
        "# EDA"
      ],
      "metadata": {
        "id": "9JiNsERChYYP"
      }
    },
    {
      "cell_type": "code",
      "source": [],
      "metadata": {
        "id": "k2vG7A0Thyls"
      },
      "execution_count": null,
      "outputs": []
    },
    {
      "cell_type": "markdown",
      "source": [
        "# Modeling"
      ],
      "metadata": {
        "id": "p4V-9N_ehg85"
      }
    },
    {
      "cell_type": "code",
      "source": [],
      "metadata": {
        "id": "Uy5XZlY-hgM9"
      },
      "execution_count": null,
      "outputs": []
    },
    {
      "cell_type": "markdown",
      "source": [
        "# Conclusion"
      ],
      "metadata": {
        "id": "c8GqPiEth2BC"
      }
    },
    {
      "cell_type": "code",
      "source": [],
      "metadata": {
        "id": "NCADiVnch7VA"
      },
      "execution_count": null,
      "outputs": []
    }
  ]
}